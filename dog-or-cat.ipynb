{
 "cells": [
  {
   "cell_type": "code",
   "execution_count": 9,
   "metadata": {
    "_cell_guid": "b1076dfc-b9ad-4769-8c92-a6c4dae69d19",
    "_uuid": "8f2839f25d086af736a60e9eeb907d3b93b6e0e5",
    "execution": {
     "iopub.execute_input": "2023-10-30T09:03:27.816525Z",
     "iopub.status.busy": "2023-10-30T09:03:27.815913Z",
     "iopub.status.idle": "2023-10-30T09:03:50.604426Z",
     "shell.execute_reply": "2023-10-30T09:03:50.603611Z",
     "shell.execute_reply.started": "2023-10-30T09:03:27.816495Z"
    }
   },
   "outputs": [
    {
     "name": "stdout",
     "output_type": "stream",
     "text": [
      "['.git', '.ipynb_checkpoints', 'dog-or-cat.ipynb', 'gui.ipynb', 'image', 'machineProject.ipynb', 'Model1.keras', 'test_data_set', 'training_data_set']\n"
     ]
    }
   ],
   "source": [
    "# This Python 3 environment comes with many helpful analytics libraries installed\n",
    "# It is defined by the kaggle/python docker image: https://github.com/kaggle/docker-python\n",
    "# For example, here's several helpful packages to load in \n",
    "\n",
    "import numpy as np # linear algebra\n",
    "import pandas as pd # data processing, CSV file I/O (e.g. pd.read_csv)\n",
    "import cv2\n",
    "import matplotlib.pyplot as plt\n",
    "import tensorflow as tf\n",
    "from tensorflow.keras.models import Sequential\n",
    "from tensorflow.keras.layers import Dense, Flatten, Dropout, Activation, Conv2D, MaxPooling2D\n",
    "\n",
    "# Input data files are available in the \"../input/\" directory.\n",
    "# For example, running this (by clicking run or pressing Shift+Enter) will list the files in the input directory\n",
    "\n",
    "\n",
    "import os\n",
    "print(os.listdir(\"../python\"))\n"
   ]
  },
  {
   "cell_type": "code",
   "execution_count": 12,
   "metadata": {
    "execution": {
     "iopub.execute_input": "2023-10-30T09:03:50.606501Z",
     "iopub.status.busy": "2023-10-30T09:03:50.605968Z",
     "iopub.status.idle": "2023-10-30T09:03:50.958176Z",
     "shell.execute_reply": "2023-10-30T09:03:50.957249Z",
     "shell.execute_reply.started": "2023-10-30T09:03:50.606473Z"
    }
   },
   "outputs": [
    {
     "data": {
      "image/png": "[encoded data removed]",
      "text/plain": [
       "<Figure size 640x480 with 1 Axes>"
      ]
     },
     "metadata": {},
     "output_type": "display_data"
    }
   ],
   "source": [
    "main_dir = \"../python/\"\n",
    "train_dir = \"training_data_set\"\n",
    "path = os.path.join(main_dir,train_dir)\n",
    "\n",
    "for p in os.listdir(path):\n",
    "    category = p.split(\".\")[0]\n",
    "    img_array = cv2.imread(os.path.join(path,p),cv2.IMREAD_GRAYSCALE)\n",
    "    new_img_array = cv2.resize(img_array, dsize=(80, 80))\n",
    "    plt.imshow(new_img_array,cmap=\"gray\")\n",
    "    break"
   ]
  },
  {
   "cell_type": "code",
   "execution_count": 17,
   "metadata": {
    "execution": {
     "iopub.execute_input": "2023-10-30T09:03:50.959519Z",
     "iopub.status.busy": "2023-10-30T09:03:50.959254Z",
     "iopub.status.idle": "2023-10-30T09:03:50.966088Z",
     "shell.execute_reply": "2023-10-30T09:03:50.965036Z",
     "shell.execute_reply.started": "2023-10-30T09:03:50.959496Z"
    }
   },
   "outputs": [],
   "source": [
    "X = []\n",
    "y = []\n",
    "convert = lambda category : int(category == 'dog')\n",
    "def create_test_data(path):\n",
    "    for p in os.listdir(path):\n",
    "        category = p.split(\".\")[0]\n",
    "        category = convert(category)\n",
    "        img_array = cv2.imread(os.path.join(path,p),cv2.IMREAD_GRAYSCALE)\n",
    "        new_img_array = cv2.resize(img_array, dsize=(80, 80))\n",
    "        X.append(new_img_array)\n",
    "        y.append(category)\n",
    "\n"
   ]
  },
  {
   "cell_type": "code",
   "execution_count": 19,
   "metadata": {
    "execution": {
     "iopub.execute_input": "2023-10-30T09:03:50.970240Z",
     "iopub.status.busy": "2023-10-30T09:03:50.969473Z",
     "iopub.status.idle": "2023-10-30T09:04:12.563269Z",
     "shell.execute_reply": "2023-10-30T09:04:12.562285Z",
     "shell.execute_reply.started": "2023-10-30T09:03:50.970214Z"
    }
   },
   "outputs": [
    {
     "ename": "AttributeError",
     "evalue": "'numpy.ndarray' object has no attribute 'append'",
     "output_type": "error",
     "traceback": [
      "\u001b[1;31m---------------------------------------------------------------------------\u001b[0m",
      "\u001b[1;31mAttributeError\u001b[0m                            Traceback (most recent call last)",
      "Cell \u001b[1;32mIn[19], line 1\u001b[0m\n\u001b[1;32m----> 1\u001b[0m create_test_data(path)\n\u001b[0;32m      2\u001b[0m X \u001b[38;5;241m=\u001b[39m np\u001b[38;5;241m.\u001b[39marray(X)\u001b[38;5;241m.\u001b[39mreshape(\u001b[38;5;241m-\u001b[39m\u001b[38;5;241m1\u001b[39m, \u001b[38;5;241m80\u001b[39m,\u001b[38;5;241m80\u001b[39m,\u001b[38;5;241m1\u001b[39m)\n\u001b[0;32m      3\u001b[0m y \u001b[38;5;241m=\u001b[39m np\u001b[38;5;241m.\u001b[39marray(y)\n",
      "Cell \u001b[1;32mIn[17], line 10\u001b[0m, in \u001b[0;36mcreate_test_data\u001b[1;34m(path)\u001b[0m\n\u001b[0;32m      8\u001b[0m img_array \u001b[38;5;241m=\u001b[39m cv2\u001b[38;5;241m.\u001b[39mimread(os\u001b[38;5;241m.\u001b[39mpath\u001b[38;5;241m.\u001b[39mjoin(path,p),cv2\u001b[38;5;241m.\u001b[39mIMREAD_GRAYSCALE)\n\u001b[0;32m      9\u001b[0m new_img_array \u001b[38;5;241m=\u001b[39m cv2\u001b[38;5;241m.\u001b[39mresize(img_array, dsize\u001b[38;5;241m=\u001b[39m(\u001b[38;5;241m80\u001b[39m, \u001b[38;5;241m80\u001b[39m))\n\u001b[1;32m---> 10\u001b[0m X\u001b[38;5;241m.\u001b[39mappend(new_img_array)\n\u001b[0;32m     11\u001b[0m y\u001b[38;5;241m.\u001b[39mappend(category)\n",
      "\u001b[1;31mAttributeError\u001b[0m: 'numpy.ndarray' object has no attribute 'append'"
     ]
    }
   ],
   "source": [
    "create_test_data(path)\n",
    "X = np.array(X).reshape(-1, 80,80,1)\n",
    "y = np.array(y)\n"
   ]
  },
  {
   "cell_type": "code",
   "execution_count": null,
   "metadata": {
    "execution": {
     "iopub.execute_input": "2023-10-30T09:04:12.564659Z",
     "iopub.status.busy": "2023-10-30T09:04:12.564347Z",
     "iopub.status.idle": "2023-10-30T09:04:12.983563Z",
     "shell.execute_reply": "2023-10-30T09:04:12.982337Z",
     "shell.execute_reply.started": "2023-10-30T09:04:12.564628Z"
    }
   },
   "outputs": [],
   "source": [
    "#Normalize data\n",
    "X = X/255.0"
   ]
  },
  {
   "cell_type": "code",
   "execution_count": null,
   "metadata": {
    "execution": {
     "iopub.execute_input": "2023-10-30T09:04:12.985440Z",
     "iopub.status.busy": "2023-10-30T09:04:12.985081Z",
     "iopub.status.idle": "2023-10-30T09:04:16.111496Z",
     "shell.execute_reply": "2023-10-30T09:04:16.110534Z",
     "shell.execute_reply.started": "2023-10-30T09:04:12.985414Z"
    }
   },
   "outputs": [],
   "source": [
    "model = Sequential()\n",
    "# Adds a densely-connected layer with 64 units to the model:\n",
    "model.add(Conv2D(64,(3,3), activation = 'relu', input_shape = X.shape[1:]))\n",
    "model.add(MaxPooling2D(pool_size = (2,2)))\n",
    "# Add another:\n",
    "model.add(Conv2D(64,(3,3), activation = 'relu'))\n",
    "model.add(MaxPooling2D(pool_size = (2,2)))\n",
    "\n",
    "model.add(Conv2D(128,(3,3), activation = 'relu'))\n",
    "model.add(MaxPooling2D(pool_size = (2,2)))\n",
    "\n",
    "model.add(Flatten())\n",
    "model.add(Dense(512, activation='relu'))\n",
    "model.add(Dense(128, activation='relu'))\n",
    "model.add(Dense(64, activation='relu'))\n",
    "# Add a softmax layer with 10 output units:\n",
    "model.add(Dense(1, activation='sigmoid'))\n",
    "\n",
    "model.compile(optimizer=\"adam\",\n",
    "              loss='binary_crossentropy',\n",
    "              metrics=['accuracy'])"
   ]
  },
  {
   "cell_type": "code",
   "execution_count": null,
   "metadata": {
    "execution": {
     "iopub.execute_input": "2023-10-30T09:04:16.112940Z",
     "iopub.status.busy": "2023-10-30T09:04:16.112661Z",
     "iopub.status.idle": "2023-10-30T09:05:11.431991Z",
     "shell.execute_reply": "2023-10-30T09:05:11.431086Z",
     "shell.execute_reply.started": "2023-10-30T09:04:16.112916Z"
    }
   },
   "outputs": [],
   "source": [
    "model.fit(X, y, epochs=10, batch_size=32, validation_split=0.2)\n"
   ]
  },
  {
   "cell_type": "code",
   "execution_count": null,
   "metadata": {
    "execution": {
     "iopub.execute_input": "2023-10-30T09:05:11.433844Z",
     "iopub.status.busy": "2023-10-30T09:05:11.433233Z",
     "iopub.status.idle": "2023-10-30T09:05:33.094448Z",
     "shell.execute_reply": "2023-10-30T09:05:33.093421Z",
     "shell.execute_reply.started": "2023-10-30T09:05:11.433810Z"
    }
   },
   "outputs": [],
   "source": [
    "test_dir = \"test1\"\n",
    "path = os.path.join(main_dir,train_dir)\n",
    "#os.listdir(path)\n",
    "\n",
    "X_test = []\n",
    "id_line = []\n",
    "def create_test1_data(path):\n",
    "    for p in os.listdir(path):\n",
    "        id_line.append(p.split(\".\")[0])\n",
    "        img_array = cv2.imread(os.path.join(path,p),cv2.IMREAD_GRAYSCALE)\n",
    "        new_img_array = cv2.resize(img_array, dsize=(80, 80))\n",
    "        X_test.append(new_img_array)\n",
    "create_test1_data(path)\n",
    "X_test = np.array(X_test).reshape(-1,80,80,1)\n",
    "X_test = X_test/255"
   ]
  },
  {
   "cell_type": "code",
   "execution_count": null,
   "metadata": {
    "execution": {
     "iopub.execute_input": "2023-10-30T09:05:33.096111Z",
     "iopub.status.busy": "2023-10-30T09:05:33.095722Z",
     "iopub.status.idle": "2023-10-30T09:05:36.684449Z",
     "shell.execute_reply": "2023-10-30T09:05:36.683701Z",
     "shell.execute_reply.started": "2023-10-30T09:05:33.096079Z"
    }
   },
   "outputs": [],
   "source": [
    "class_map = {\n",
    "  0: 'cat',\n",
    "  1: 'dog'\n",
    "}\n",
    "predictions = model.predict(X_test)\n",
    "predicted_val = []\n",
    "for p in predictions:\n",
    "  predicted_val.append(class_map[int(round(p[0]))])\n",
    "\n",
    "# predicted_val = [class_map[int(p[0])] for p in predictions]\n",
    "\n",
    "submission_df = pd.DataFrame({'id':id_line, 'label':predicted_val})\n",
    "submission_df.to_csv(\"submission_val.csv\", index=False)"
   ]
  },
  {
   "cell_type": "code",
   "execution_count": null,
   "metadata": {},
   "outputs": [],
   "source": []
  },
  {
   "cell_type": "code",
   "execution_count": null,
   "metadata": {
    "execution": {
     "iopub.execute_input": "2023-10-30T09:05:36.687070Z",
     "iopub.status.busy": "2023-10-30T09:05:36.686789Z",
     "iopub.status.idle": "2023-10-30T09:05:36.691360Z",
     "shell.execute_reply": "2023-10-30T09:05:36.690446Z",
     "shell.execute_reply.started": "2023-10-30T09:05:36.687045Z"
    }
   },
   "outputs": [],
   "source": [
    "# # /kaggle/input/image11/cat.4002.jpg\n",
    "# test_dir = \"/kaggle/input/image11/\"\n",
    "# # path = os.path.join(main_dir,train_dir)\n",
    "# os.listdir(test_dir)\n",
    "\n",
    "# X_test = []\n",
    "# id_line = []\n",
    "# def create_test1_data(path):\n",
    "#     for p in os.listdir(path):\n",
    "#         id_line.append(p.split(\".\")[1])\n",
    "#         img_array = cv2.imread(os.path.join(path,p),cv2.IMREAD_GRAYSCALE)\n",
    "#         new_img_array = cv2.resize(img_array, dsize=(80, 80))\n",
    "#         X_test.append(new_img_array)\n",
    "# create_test1_data(test_dir)\n",
    "# X_test = np.array(X_test).reshape(-1,80,80,1)\n",
    "# X_test = X_test/255"
   ]
  },
  {
   "cell_type": "code",
   "execution_count": null,
   "metadata": {
    "execution": {
     "iopub.execute_input": "2023-10-30T09:05:36.693170Z",
     "iopub.status.busy": "2023-10-30T09:05:36.692500Z",
     "iopub.status.idle": "2023-10-30T09:05:36.705530Z",
     "shell.execute_reply": "2023-10-30T09:05:36.704716Z",
     "shell.execute_reply.started": "2023-10-30T09:05:36.693138Z"
    }
   },
   "outputs": [],
   "source": [
    "# predictions = model.predict(X_test)\n",
    "# predicted_val = [int(round(p[0])) for p in predictions]\n",
    "# submission_df = pd.DataFrame({'id':id_line, 'label':predicted_val})\n",
    "# submission_df.to_csv(\"submission_test.csv\", index=False)"
   ]
  },
  {
   "cell_type": "code",
   "execution_count": null,
   "metadata": {
    "execution": {
     "iopub.execute_input": "2023-10-30T09:05:36.706732Z",
     "iopub.status.busy": "2023-10-30T09:05:36.706468Z",
     "iopub.status.idle": "2023-10-30T09:05:39.466943Z",
     "shell.execute_reply": "2023-10-30T09:05:39.465974Z",
     "shell.execute_reply.started": "2023-10-30T09:05:36.706709Z"
    }
   },
   "outputs": [],
   "source": [
    "test_dir = 'test_data_set'\n",
    "list_dir = os.listdir(test_dir)\n",
    "\n",
    "plt.figure(figsize = (15, 10))\n",
    "idx = 0\n",
    "for i in np.random.choice(len(list_dir), 9):\n",
    "    idx += 1\n",
    "    plt.subplot(3, 3, idx)\n",
    "    path = test_dir + list_dir[i]\n",
    "    image = plt.imread(path)\n",
    "    plt.imshow(image)\n",
    "    plt.title(f'Prediction: {str(predicted_val[i])}')\n",
    "\n",
    "plt.tight_layout()\n"
   ]
  },
  {
   "cell_type": "code",
   "execution_count": null,
   "metadata": {},
   "outputs": [],
   "source": []
  },
  {
   "cell_type": "code",
   "execution_count": null,
   "metadata": {},
   "outputs": [],
   "source": []
  }
 ],
 "metadata": {
  "kernelspec": {
   "display_name": "Python 3 (ipykernel)",
   "language": "python",
   "name": "python3"
  },
  "language_info": {
   "codemirror_mode": {
    "name": "ipython",
    "version": 3
   },
   "file_extension": ".py",
   "mimetype": "text/x-python",
   "name": "python",
   "nbconvert_exporter": "python",
   "pygments_lexer": "ipython3",
   "version": "3.11.5"
  }
 },
 "nbformat": 4,
 "nbformat_minor": 4
}
