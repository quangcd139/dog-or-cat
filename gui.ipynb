{
 "cells": [
  {
   "cell_type": "code",
   "execution_count": 1,
   "id": "4161284b",
   "metadata": {},
   "outputs": [],
   "source": [
    "import tkinter as tk\n",
    "from tkinter import filedialog\n",
    "from tkinter import *\n",
    "from PIL import ImageTk, Image\n",
    "import numpy\n",
    "from keras.models import load_model"
   ]
  },
  {
   "cell_type": "code",
   "execution_count": 2,
   "id": "43c3a325",
   "metadata": {},
   "outputs": [],
   "source": [
    "model = load_model('Model1.keras')\n",
    "classes = {\n",
    "    0:'Đây là con mèo!',\n",
    "    1:'Đây là con chó!',\n",
    "\n",
    "}\n",
    "\n",
    "top=tk.Tk()\n",
    "top.geometry('800x600')\n",
    "top.title('Phân loại chó mèo')\n",
    "top.configure(background='#CDCDCD')\n",
    "label=Label(top,background='#CDCDCD', font=('arial',15,'bold'))\n",
    "sign_image = Label(top)"
   ]
  },
  {
   "cell_type": "code",
   "execution_count": 3,
   "id": "1ba7650a",
   "metadata": {},
   "outputs": [],
   "source": [
    "def classify(file_path):\n",
    "    global label_packed\n",
    "    image = Image.open(file_path)\n",
    "    image = image.resize((128,128))\n",
    "    image = numpy.expand_dims(image, axis=0)\n",
    "    image = numpy.array(image)\n",
    "    image = image/255\n",
    "    pred = model.predict(image)\n",
    "    index=numpy.argmax(pred)\n",
    "\n",
    "    sign = classes[index]\n",
    "    print(sign)\n",
    "    label.configure(foreground='#670000', text=sign)\n",
    "def show_classify_button(file_path):\n",
    "    classify_b=Button(top,text=\"Nhận diện\",command=lambda: classify(file_path),padx=10,pady=5)\n",
    "    classify_b.configure(background='#0082CD', foreground='white',\n",
    "    font=('arial',10,'bold'))\n",
    "    classify_b.place(relx=0.79,rely=0.46)\n",
    "\n",
    "def upload_image():\n",
    "    try:\n",
    "        file_path = filedialog.askopenfilename()\n",
    "        uploaded=Image.open(file_path)\n",
    "        uploaded.thumbnail(((top.winfo_width()/2.25),\n",
    "        (top.winfo_height()/2.2)))\n",
    "        im=ImageTk.PhotoImage(uploaded)\n",
    "        sign_image.configure(image=im)\n",
    "        sign_image.image=im\n",
    "        label.configure(text='')\n",
    "        show_classify_button(file_path)\n",
    "    except:\n",
    "        pass\n"
   ]
  },
  {
   "cell_type": "code",
   "execution_count": 4,
   "id": "39e0aac0",
   "metadata": {},
   "outputs": [
    {
     "name": "stderr",
     "output_type": "stream",
     "text": [
      "Exception in Tkinter callback\n",
      "Traceback (most recent call last):\n",
      "  File \"C:\\Users\\caoqu\\anaconda3\\Lib\\tkinter\\__init__.py\", line 1948, in __call__\n",
      "    return self.func(*args)\n",
      "           ^^^^^^^^^^^^^^^^\n",
      "  File \"C:\\Users\\caoqu\\AppData\\Local\\Temp\\ipykernel_14660\\3258713255.py\", line 8, in <lambda>\n",
      "    classify_b=Button(top,text=\"Nhận diện\",command=lambda: classify(file_path),padx=10,pady=5)\n",
      "                                                                    ^^^^^^^^^\n",
      "NameError: name 'file_path' is not defined\n"
     ]
    },
    {
     "name": "stdout",
     "output_type": "stream",
     "text": [
      "1/1 [==============================] - 1s 642ms/step\n",
      "Đây là con chó!\n",
      "1/1 [==============================] - 0s 90ms/step\n",
      "Đây là con mèo!\n",
      "1/1 [==============================] - 0s 64ms/step\n",
      "Đây là con chó!\n",
      "1/1 [==============================] - 0s 64ms/step\n",
      "Đây là con mèo!\n",
      "1/1 [==============================] - 0s 64ms/step\n",
      "Đây là con chó!\n",
      "1/1 [==============================] - 0s 73ms/step\n",
      "Đây là con mèo!\n"
     ]
    }
   ],
   "source": [
    "upload=Button(top,text=\"Tải ảnh lên\",command=upload_image,padx=10,pady=5)\n",
    "upload.configure(background='#0082CD', foreground='white',\n",
    "font=('arial',10,'bold'))\n",
    "upload.pack(side=BOTTOM,pady=50)\n",
    "sign_image.pack(side=BOTTOM,expand=True)\n",
    "label.pack(side=BOTTOM,expand=True)\n",
    "\n",
    "classify_b=Button(top,text=\"Nhận diện\",command=lambda: classify(file_path),padx=10,pady=5)\n",
    "classify_b.configure(background='#0082CD', foreground='white',\n",
    "font=('arial',10,'bold'))\n",
    "classify_b.place(relx=0.79,rely=0.46)\n",
    "\n",
    "heading = Label(top, text=\"Chương trình nhận diện chó mèo\",pady=20, font=('arial',20,'bold'))\n",
    "heading.configure(background='#CDCDCD',foreground='black')\n",
    "heading.pack()\n",
    "top.mainloop()"
   ]
  },
  {
   "cell_type": "code",
   "execution_count": null,
   "id": "3c439ee2",
   "metadata": {},
   "outputs": [],
   "source": []
  },
  {
   "cell_type": "code",
   "execution_count": null,
   "id": "5e59083d",
   "metadata": {},
   "outputs": [],
   "source": []
  },
  {
   "cell_type": "code",
   "execution_count": null,
   "id": "63720215",
   "metadata": {},
   "outputs": [],
   "source": []
  }
 ],
 "metadata": {
  "kernelspec": {
   "display_name": "Python 3 (ipykernel)",
   "language": "python",
   "name": "python3"
  },
  "language_info": {
   "codemirror_mode": {
    "name": "ipython",
    "version": 3
   },
   "file_extension": ".py",
   "mimetype": "text/x-python",
   "name": "python",
   "nbconvert_exporter": "python",
   "pygments_lexer": "ipython3",
   "version": "3.11.5"
  }
 },
 "nbformat": 4,
 "nbformat_minor": 5
}
